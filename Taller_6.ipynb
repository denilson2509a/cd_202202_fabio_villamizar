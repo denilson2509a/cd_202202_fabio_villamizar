{
  "nbformat": 4,
  "nbformat_minor": 0,
  "metadata": {
    "colab": {
      "provenance": [],
      "include_colab_link": true
    },
    "kernelspec": {
      "name": "python3",
      "display_name": "Python 3"
    },
    "language_info": {
      "name": "python"
    }
  },
  "cells": [
    {
      "cell_type": "markdown",
      "metadata": {
        "id": "view-in-github",
        "colab_type": "text"
      },
      "source": [
        "<a href=\"https://colab.research.google.com/github/denilson2509a/cd_202202_fabio_villamizar/blob/main/Taller_6.ipynb\" target=\"_parent\"><img src=\"https://colab.research.google.com/assets/colab-badge.svg\" alt=\"Open In Colab\"/></a>"
      ]
    },
    {
      "cell_type": "code",
      "execution_count": 1,
      "metadata": {
        "id": "m2P9x9o5j5ml"
      },
      "outputs": [],
      "source": [
        "import math\n",
        "import random \n",
        "def distancia(x,y):\n",
        "  return math.sqrt(x**2+y**2)"
      ]
    },
    {
      "cell_type": "code",
      "source": [
        "cont=0\n",
        "puntosLado=10000\n",
        "paso=1/(puntosLado-1)\n",
        "i=0\n",
        "while (i<=1):\n",
        "  j=0\n",
        "  while (j<=1):\n",
        "    if distancia(i,j)<=1:\n",
        "      cont+=1\n",
        "    j+=paso\n",
        "  i+=paso\n",
        "\n",
        "print(\"puntos:\",cont)\n",
        "print(\"estimación de pi:\",(cont*4/puntosLado**2))\n"
      ],
      "metadata": {
        "colab": {
          "base_uri": "https://localhost:8080/"
        },
        "id": "2Ruv90_FkN1y",
        "outputId": "4ad54fb8-0889-40f2-ed7a-5d5c66f12db2"
      },
      "execution_count": 2,
      "outputs": [
        {
          "output_type": "stream",
          "name": "stdout",
          "text": [
            "puntos: 78534021\n",
            "estimación de pi: 3.14136084\n"
          ]
        }
      ]
    },
    {
      "cell_type": "code",
      "source": [
        "pAle=1000000\n",
        "\n",
        "cAle=0\n",
        "for i in range(pAle):\n",
        "  x=random.random()\n",
        "  y=random.random()\n",
        "  if (distancia(x,y)<=1):\n",
        "\n",
        "    cAle+=1\n",
        "\n",
        "print(\"estimación de pi:\",(cAle*4/pAle**2))"
      ],
      "metadata": {
        "colab": {
          "base_uri": "https://localhost:8080/"
        },
        "id": "o8yrNTd9okk3",
        "outputId": "545446ba-4220-40a5-fe17-df80472ad483"
      },
      "execution_count": 3,
      "outputs": [
        {
          "output_type": "stream",
          "name": "stdout",
          "text": [
            "estimación de pi: 3.138784e-06\n"
          ]
        }
      ]
    }
  ]
}